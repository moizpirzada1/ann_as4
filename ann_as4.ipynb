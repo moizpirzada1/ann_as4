{
 "cells": [
  {
   "cell_type": "code",
   "execution_count": 2,
   "id": "e3dc36e7-9e13-4049-bc76-041a22720a7a",
   "metadata": {},
   "outputs": [
    {
     "name": "stdout",
     "output_type": "stream",
     "text": [
      "Collecting minisom\n",
      "  Downloading minisom-2.3.5.tar.gz (12 kB)\n",
      "  Preparing metadata (setup.py): started\n",
      "  Preparing metadata (setup.py): finished with status 'done'\n",
      "Building wheels for collected packages: minisom\n",
      "  Building wheel for minisom (setup.py): started\n",
      "  Building wheel for minisom (setup.py): finished with status 'done'\n",
      "  Created wheel for minisom: filename=MiniSom-2.3.5-py3-none-any.whl size=12042 sha256=b45a1f180503e7f597f6babd7f25fb08da367eee6007bb74f7f7cf86c735b371\n",
      "  Stored in directory: c:\\users\\r y z e n\\appdata\\local\\pip\\cache\\wheels\\19\\db\\95\\5e53bc2b88a328217fdf9f2886cafbe86b0df274f4b601f572\n",
      "Successfully built minisom\n",
      "Installing collected packages: minisom\n",
      "Successfully installed minisom-2.3.5\n"
     ]
    },
    {
     "name": "stderr",
     "output_type": "stream",
     "text": [
      "  WARNING: Retrying (Retry(total=4, connect=None, read=None, redirect=None, status=None)) after connection broken by 'ReadTimeoutError(\"HTTPSConnectionPool(host='files.pythonhosted.org', port=443): Read timed out. (read timeout=15)\")': /packages/5b/91/0378b47975d93f76a1ce3813be573d857c35fe542cd6c0b2da4b401fd2f5/minisom-2.3.5.tar.gz\n"
     ]
    }
   ],
   "source": [
    "import numpy as np\n",
    "import pandas as pd\n",
    "from sklearn.model_selection import train_test_split\n",
    "from sklearn.preprocessing import LabelEncoder, StandardScaler\n",
    "from sklearn.metrics import classification_report\n",
    "from sklearn.linear_model import Perceptron\n",
    "from sklearn.neural_network import MLPClassifier\n",
    "from sklearn.svm import SVC\n",
    "from sklearn.base import BaseEstimator, ClassifierMixin\n",
    "from sklearn.pipeline import Pipeline\n",
    "from sklearn.impute import SimpleImputer\n",
    "from sklearn.decomposition import PCA\n",
    "import pickle\n",
    "!pip install minisom"
   ]
  },
  {
   "cell_type": "code",
   "execution_count": 3,
   "id": "5214ecaf-3c65-4ac2-b944-41719cdbd88d",
   "metadata": {},
   "outputs": [],
   "source": [
    "df = pd.read_csv(r\"C:\\Users\\R Y Z E N\\Desktop\\indian_liver_patient.csv\")\n"
   ]
  },
  {
   "cell_type": "code",
   "execution_count": 5,
   "id": "3b8ac6c6-f816-45d6-abaa-1eb5b34b9b4d",
   "metadata": {},
   "outputs": [],
   "source": [
    " #Fill missing values\n",
    "df['Albumin_and_Globulin_Ratio'].fillna(df['Albumin_and_Globulin_Ratio'].mean(), inplace=True)\n"
   ]
  },
  {
   "cell_type": "code",
   "execution_count": 6,
   "id": "f178b32f-3918-4ddf-9832-74ae1ad74164",
   "metadata": {},
   "outputs": [],
   "source": [
    "# Encode Gender\n",
    "df['Gender'] = LabelEncoder().fit_transform(df['Gender'])"
   ]
  },
  {
   "cell_type": "code",
   "execution_count": 7,
   "id": "ba22e1f1-bb0f-4ec1-82a0-72e75fa5a6e4",
   "metadata": {},
   "outputs": [],
   "source": [
    "# Convert 'Dataset' to binary (1 = disease, 0 = no disease)\n",
    "df['Dataset'] = df['Dataset'].apply(lambda x: 1 if x == 1 else 0)\n"
   ]
  },
  {
   "cell_type": "code",
   "execution_count": 8,
   "id": "b61ac2e0-fc3b-4f24-8df2-79d551500509",
   "metadata": {},
   "outputs": [],
   "source": [
    "# Convert 'Dataset' to binary (1 = disease, 0 = no disease)\n",
    "df['Dataset'] = df['Dataset'].apply(lambda x: 1 if x == 1 else 0)\n"
   ]
  },
  {
   "cell_type": "code",
   "execution_count": 10,
   "id": "e2049ca7-00ce-4592-bd71-44464a2fef2e",
   "metadata": {},
   "outputs": [],
   "source": [
    "# Split features and target\n",
    "X = df.drop(\"Dataset\", axis=1)\n",
    "y = df[\"Dataset\"]\n"
   ]
  },
  {
   "cell_type": "code",
   "execution_count": 11,
   "id": "cfddff44-0759-4239-84db-f13a023557cd",
   "metadata": {},
   "outputs": [],
   "source": [
    "# Scale features\n",
    "scaler = StandardScaler()\n",
    "X_scaled = scaler.fit_transform(X)\n"
   ]
  },
  {
   "cell_type": "code",
   "execution_count": 12,
   "id": "a0945415-22fe-48dc-af0e-9fe19de2d82a",
   "metadata": {},
   "outputs": [],
   "source": [
    "# Train/test split\n",
    "X_train, X_test, y_train, y_test = train_test_split(X_scaled, y, test_size=0.2, random_state=42)\n"
   ]
  },
  {
   "cell_type": "code",
   "execution_count": 13,
   "id": "c416a563-a962-4538-a5b2-fa0e005ef17e",
   "metadata": {},
   "outputs": [
    {
     "name": "stdout",
     "output_type": "stream",
     "text": [
      "Perceptron Results:\n",
      "               precision    recall  f1-score   support\n",
      "\n",
      "           0       0.37      0.93      0.53        30\n",
      "           1       0.95      0.45      0.61        87\n",
      "\n",
      "    accuracy                           0.57       117\n",
      "   macro avg       0.66      0.69      0.57       117\n",
      "weighted avg       0.80      0.57      0.59       117\n",
      "\n"
     ]
    }
   ],
   "source": [
    "perceptron = Perceptron(max_iter=1000, eta0=0.1, random_state=0)\n",
    "perceptron.fit(X_train, y_train)\n",
    "print(\"Perceptron Results:\\n\", classification_report(y_test, perceptron.predict(X_test)))\n"
   ]
  },
  {
   "cell_type": "code",
   "execution_count": 14,
   "id": "0f34c4a1-0917-421c-a6d4-8c3c522305d8",
   "metadata": {},
   "outputs": [
    {
     "name": "stdout",
     "output_type": "stream",
     "text": [
      "MLP Results:\n",
      "               precision    recall  f1-score   support\n",
      "\n",
      "           0       0.46      0.60      0.52        30\n",
      "           1       0.85      0.76      0.80        87\n",
      "\n",
      "    accuracy                           0.72       117\n",
      "   macro avg       0.65      0.68      0.66       117\n",
      "weighted avg       0.75      0.72      0.73       117\n",
      "\n"
     ]
    },
    {
     "name": "stderr",
     "output_type": "stream",
     "text": [
      "C:\\Users\\R Y Z E N\\.matplotlib\\ana1\\Lib\\site-packages\\sklearn\\neural_network\\_multilayer_perceptron.py:686: ConvergenceWarning: Stochastic Optimizer: Maximum iterations (1000) reached and the optimization hasn't converged yet.\n",
      "  warnings.warn(\n"
     ]
    }
   ],
   "source": [
    "\n",
    "mlp = MLPClassifier(hidden_layer_sizes=(64, 32), activation='relu', solver='adam',\n",
    "                    alpha=0.001, max_iter=1000, random_state=42)\n",
    "mlp.fit(X_train, y_train)\n",
    "print(\"MLP Results:\\n\", classification_report(y_test, mlp.predict(X_test)))\n"
   ]
  },
  {
   "cell_type": "code",
   "execution_count": 15,
   "id": "a05e1106-5f4e-4eac-8cdb-c31bf718ca58",
   "metadata": {},
   "outputs": [],
   "source": [
    "from minisom import MiniSom\n",
    "\n",
    "som = MiniSom(x=10, y=10, input_len=X_train.shape[1], sigma=1.0, learning_rate=0.5)\n",
    "som.random_weights_init(X_train)\n",
    "som.train_random(X_train, 100)"
   ]
  },
  {
   "cell_type": "code",
   "execution_count": 16,
   "id": "8949a034-bae8-4cba-8b90-bd75a7311458",
   "metadata": {},
   "outputs": [
    {
     "name": "stdout",
     "output_type": "stream",
     "text": [
      "RBFN Results:\n",
      "               precision    recall  f1-score   support\n",
      "\n",
      "           0       0.00      0.00      0.00        30\n",
      "           1       0.74      1.00      0.85        87\n",
      "\n",
      "    accuracy                           0.74       117\n",
      "   macro avg       0.37      0.50      0.43       117\n",
      "weighted avg       0.55      0.74      0.63       117\n",
      "\n"
     ]
    },
    {
     "name": "stderr",
     "output_type": "stream",
     "text": [
      "C:\\Users\\R Y Z E N\\.matplotlib\\ana1\\Lib\\site-packages\\sklearn\\metrics\\_classification.py:1344: UndefinedMetricWarning: Precision and F-score are ill-defined and being set to 0.0 in labels with no predicted samples. Use `zero_division` parameter to control this behavior.\n",
      "  _warn_prf(average, modifier, msg_start, len(result))\n",
      "C:\\Users\\R Y Z E N\\.matplotlib\\ana1\\Lib\\site-packages\\sklearn\\metrics\\_classification.py:1344: UndefinedMetricWarning: Precision and F-score are ill-defined and being set to 0.0 in labels with no predicted samples. Use `zero_division` parameter to control this behavior.\n",
      "  _warn_prf(average, modifier, msg_start, len(result))\n",
      "C:\\Users\\R Y Z E N\\.matplotlib\\ana1\\Lib\\site-packages\\sklearn\\metrics\\_classification.py:1344: UndefinedMetricWarning: Precision and F-score are ill-defined and being set to 0.0 in labels with no predicted samples. Use `zero_division` parameter to control this behavior.\n",
      "  _warn_prf(average, modifier, msg_start, len(result))\n"
     ]
    }
   ],
   "source": [
    "\n",
    "class RBFNetwork(BaseEstimator, ClassifierMixin):\n",
    "    def __init__(self, gamma=1.0):\n",
    "        self.gamma = gamma\n",
    "    \n",
    "    def _rbf(self, X, centers):\n",
    "        return np.exp(-self.gamma * np.linalg.norm(X[:, np.newaxis] - centers, axis=2) ** 2)\n",
    "\n",
    "    def fit(self, X, y):\n",
    "        self.centers = X[np.random.choice(X.shape[0], 10, replace=False)]\n",
    "        self.X_trans = self._rbf(X, self.centers)\n",
    "        self.model = SVC(kernel='linear')\n",
    "        self.model.fit(self.X_trans, y)\n",
    "        return self\n",
    "\n",
    "    def predict(self, X):\n",
    "        X_rbf = self._rbf(X, self.centers)\n",
    "        return self.model.predict(X_rbf)\n",
    "\n",
    "rbf_net = RBFNetwork(gamma=0.1)\n",
    "rbf_net.fit(X_train, y_train)\n",
    "print(\"RBFN Results:\\n\", classification_report(y_test, rbf_net.predict(X_test)))\n"
   ]
  },
  {
   "cell_type": "code",
   "execution_count": 17,
   "id": "0b227ba4-cdda-4361-a541-fa6a83388cfc",
   "metadata": {},
   "outputs": [],
   "source": [
    "\n",
    "class BAM:\n",
    "    def __init__(self):\n",
    "        self.weights = None\n",
    "\n",
    "    def train(self, x, y):\n",
    "        self.weights = np.dot(x.T, y)\n",
    "\n",
    "    def recall(self, x):\n",
    "        y = np.sign(np.dot(x, self.weights))\n",
    "        return y\n",
    "\n",
    "# Convert input to bipolar (-1, 1)\n",
    "X_bam = np.where(X > 0, 1, -1)\n",
    "y_bam = np.where(y.values.reshape(-1, 1) > 0, 1, -1)\n",
    "\n",
    "bam = BAM()\n",
    "bam.train(X_bam, y_bam)\n",
    "y_pred_bam = bam.recall(X_bam)\n"
   ]
  },
  {
   "cell_type": "code",
   "execution_count": 18,
   "id": "441c14e8-917c-4577-b4ce-3de4f0974f1a",
   "metadata": {},
   "outputs": [],
   "source": [
    "models = {\n",
    "    \"perceptron\": perceptron,\n",
    "    \"mlp\": mlp,\n",
    "    \"rbfn\": rbf_net,\n",
    "    \"som\": som,\n",
    "    \"bam\": bam,\n",
    "    \"scaler\": scaler\n",
    "}\n",
    "\n",
    "with open(\"ai_health_advisor_models.pkl\", \"wb\") as f:\n",
    "    pickle.dump(models, f)"
   ]
  }
 ],
 "metadata": {
  "kernelspec": {
   "display_name": "Python 3 (ipykernel)",
   "language": "python",
   "name": "python3"
  },
  "language_info": {
   "codemirror_mode": {
    "name": "ipython",
    "version": 3
   },
   "file_extension": ".py",
   "mimetype": "text/x-python",
   "name": "python",
   "nbconvert_exporter": "python",
   "pygments_lexer": "ipython3",
   "version": "3.11.7"
  }
 },
 "nbformat": 4,
 "nbformat_minor": 5
}
